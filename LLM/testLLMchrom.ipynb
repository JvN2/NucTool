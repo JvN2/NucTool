{
 "cells": [
  {
   "cell_type": "markdown",
   "metadata": {
    "id": "IQ7wwW0cD99F"
   },
   "source": [
    "# # PyTorch Neural Network with Overfitting Prevention\n",
    "#\n",
    "# **Key Features**:\n",
    "# - 200 input features\n",
    "# - Customizable hidden layers\n",
    "# - Built-in regularization (Dropout + L2 Weight Decay)\n",
    "# - Early Stopping\n",
    "# - Batch Normalization"
   ]
  },
  {
   "cell_type": "code",
   "execution_count": 5,
   "metadata": {
    "executionInfo": {
     "elapsed": 1344,
     "status": "ok",
     "timestamp": 1745925334592,
     "user": {
      "displayName": "John van Noort",
      "userId": "07435061462309627171"
     },
     "user_tz": -120
    },
    "id": "RRgZOvcVEDOr"
   },
   "outputs": [],
   "source": [
    "# ## 1. Setup & Imports\n",
    "\n",
    "# %%\n",
    "import torch\n",
    "import torch.nn as nn\n",
    "import torch.optim as optim\n",
    "from sklearn.model_selection import train_test_split\n",
    "import numpy as np\n"
   ]
  },
  {
   "cell_type": "code",
   "execution_count": 8,
   "metadata": {
    "executionInfo": {
     "elapsed": 30,
     "status": "ok",
     "timestamp": 1745925334628,
     "user": {
      "displayName": "John van Noort",
      "userId": "07435061462309627171"
     },
     "user_tz": -120
    },
    "id": "PA6cEAN8ET0S"
   },
   "outputs": [],
   "source": [
    "# ## 2. Neural Network Architecture\n",
    "\n",
    "# %%\n",
    "class CustomNet(nn.Module):\n",
    "    def __init__(self, input_size=200, hidden_sizes=[128, 64], output_size=10, dropout_rate=0.3):\n",
    "        super().__init__()\n",
    "\n",
    "        layers = []\n",
    "        prev_size = input_size\n",
    "\n",
    "        # Dynamically create hidden layers\n",
    "        for i, h_size in enumerate(hidden_sizes):\n",
    "            layers.append(nn.Linear(prev_size, h_size))\n",
    "            layers.append(nn.BatchNorm1d(h_size))  # BatchNorm\n",
    "            layers.append(nn.ReLU())\n",
    "            layers.append(nn.Dropout(dropout_rate))  # Dropout\n",
    "            prev_size = h_size\n",
    "\n",
    "        self.hidden = nn.Sequential(*layers)\n",
    "        self.output = nn.Linear(prev_size, output_size)\n",
    "\n",
    "    def forward(self, x):\n",
    "        x = self.hidden(x)\n",
    "        return self.output(x)\n"
   ]
  },
  {
   "cell_type": "code",
   "execution_count": 9,
   "metadata": {
    "colab": {
     "base_uri": "https://localhost:8080/"
    },
    "executionInfo": {
     "elapsed": 31,
     "status": "ok",
     "timestamp": 1745925334661,
     "user": {
      "displayName": "John van Noort",
      "userId": "07435061462309627171"
     },
     "user_tz": -120
    },
    "id": "k_1_Vy9gEZwc",
    "outputId": "13877522-57ae-48e3-c7bd-118527f58a62"
   },
   "outputs": [
    {
     "name": "stdout",
     "output_type": "stream",
     "text": [
      "torch.Size([1000, 2000])\n",
      "torch.Size([1000])\n"
     ]
    }
   ],
   "source": [
    "# ## 3. Data Preparation\n",
    "\n",
    "# %%\n",
    "# Generate synthetic data\n",
    "input_size = 2000\n",
    "output_size = 10\n",
    "samples = 1000  # More samples help prevent overfitting\n",
    "\n",
    "X = torch.randn(samples, input_size)\n",
    "y = torch.randint(0, output_size, (samples,))\n",
    "\n",
    "print(np.shape(X))\n",
    "print(np.shape(y))\n",
    "\n",
    "\n",
    "# Split into train/validation\n",
    "X_train, X_val, y_train, y_val = train_test_split(X, y, test_size=0.2, random_state=42)\n"
   ]
  },
  {
   "cell_type": "code",
   "execution_count": 10,
   "metadata": {
    "executionInfo": {
     "elapsed": 1541,
     "status": "ok",
     "timestamp": 1745925336204,
     "user": {
      "displayName": "John van Noort",
      "userId": "07435061462309627171"
     },
     "user_tz": -120
    },
    "id": "tSmkljzXEfOC"
   },
   "outputs": [],
   "source": [
    "# ## 4. Training Setup\n",
    "\n",
    "# %%\n",
    "# Initialize model with L2 regularization (weight decay)\n",
    "model = CustomNet(input_size=input_size,\n",
    "                 hidden_sizes=[128, 64, 32],  # 3 hidden layers\n",
    "                 output_size=output_size,\n",
    "                 dropout_rate=0.3)\n",
    "\n",
    "criterion = nn.CrossEntropyLoss()\n",
    "optimizer = optim.Adam(model.parameters(), lr=0.001, weight_decay=1e-4)  # L2 regularization"
   ]
  },
  {
   "cell_type": "code",
   "execution_count": 11,
   "metadata": {
    "colab": {
     "base_uri": "https://localhost:8080/"
    },
    "executionInfo": {
     "elapsed": 594,
     "status": "ok",
     "timestamp": 1745925336806,
     "user": {
      "displayName": "John van Noort",
      "userId": "07435061462309627171"
     },
     "user_tz": -120
    },
    "id": "9jJl9f-IEoRC",
    "outputId": "1d8512f7-3200-42ed-ca32-7770c17b03b8"
   },
   "outputs": [
    {
     "name": "stdout",
     "output_type": "stream",
     "text": [
      "Epoch 10/100 | Train Loss: 1.9059 | Val Loss: 2.3138\n",
      "Early stopping at epoch 14\n"
     ]
    }
   ],
   "source": [
    "# ## 5. Training Loop with Early Stopping\n",
    "\n",
    "# %%\n",
    "epochs = 100\n",
    "best_val_loss = float('inf')\n",
    "patience = 5\n",
    "epochs_no_improve = 0\n",
    "\n",
    "for epoch in range(epochs):\n",
    "    # Training\n",
    "    model.train()\n",
    "    optimizer.zero_grad()\n",
    "    outputs = model(X_train)\n",
    "    loss = criterion(outputs, y_train)\n",
    "    loss.backward()\n",
    "    optimizer.step()\n",
    "\n",
    "    # Validation\n",
    "    model.eval()\n",
    "    with torch.no_grad():\n",
    "        val_outputs = model(X_val)\n",
    "        val_loss = criterion(val_outputs, y_val)\n",
    "\n",
    "    # Early stopping check\n",
    "    if val_loss < best_val_loss:\n",
    "        best_val_loss = val_loss\n",
    "        epochs_no_improve = 0\n",
    "    else:\n",
    "        epochs_no_improve += 1\n",
    "        if epochs_no_improve >= patience:\n",
    "            print(f\"Early stopping at epoch {epoch+1}\")\n",
    "            break\n",
    "\n",
    "    # Progress report\n",
    "    if (epoch+1) % 10 == 0:\n",
    "        print(f\"Epoch {epoch+1}/{epochs} | Train Loss: {loss.item():.4f} | Val Loss: {val_loss.item():.4f}\")\n"
   ]
  },
  {
   "cell_type": "code",
   "execution_count": 12,
   "metadata": {
    "colab": {
     "base_uri": "https://localhost:8080/"
    },
    "executionInfo": {
     "elapsed": 19,
     "status": "ok",
     "timestamp": 1745925336827,
     "user": {
      "displayName": "John van Noort",
      "userId": "07435061462309627171"
     },
     "user_tz": -120
    },
    "id": "mK-ltgGwEt3S",
    "outputId": "c4477921-f4c3-4708-f187-0587b616ab96"
   },
   "outputs": [
    {
     "name": "stdout",
     "output_type": "stream",
     "text": [
      "\n",
      "Final Validation Accuracy: 12.50%\n"
     ]
    }
   ],
   "source": [
    "# ## 6. Model Evaluation\n",
    "\n",
    "# %%\n",
    "# Final validation accuracy\n",
    "model.eval()\n",
    "with torch.no_grad():\n",
    "    _, preds = torch.max(model(X_val), 1)\n",
    "    accuracy = (preds == y_val).float().mean()\n",
    "\n",
    "print(f\"\\nFinal Validation Accuracy: {accuracy.item()*100:.2f}%\")"
   ]
  },
  {
   "cell_type": "code",
   "execution_count": 13,
   "metadata": {
    "colab": {
     "base_uri": "https://localhost:8080/"
    },
    "executionInfo": {
     "elapsed": 26,
     "status": "ok",
     "timestamp": 1745925336855,
     "user": {
      "displayName": "John van Noort",
      "userId": "07435061462309627171"
     },
     "user_tz": -120
    },
    "id": "a2fcE6pIEvja",
    "outputId": "def45f95-28a8-4ff1-c322-c9d0db4bdfdd"
   },
   "outputs": [
    {
     "name": "stdout",
     "output_type": "stream",
     "text": [
      "\n",
      "Test Predictions:\n",
      "Sample 1: Predicted Class 0 with Confidence 0.12\n",
      "Sample 2: Predicted Class 7 with Confidence 0.12\n",
      "Sample 3: Predicted Class 2 with Confidence 0.11\n",
      "Sample 4: Predicted Class 0 with Confidence 0.11\n",
      "Sample 5: Predicted Class 4 with Confidence 0.12\n"
     ]
    }
   ],
   "source": [
    "# ## 7. Prediction Example\n",
    "\n",
    "# %%\n",
    "# Generate 5 new samples\n",
    "test_samples = 5\n",
    "X_test = torch.randn(test_samples, input_size)\n",
    "\n",
    "# Predict\n",
    "model.eval()\n",
    "with torch.no_grad():\n",
    "    logits = model(X_test)\n",
    "    probabilities = torch.softmax(logits, dim=1)\n",
    "    predicted_classes = torch.argmax(probabilities, dim=1)\n",
    "\n",
    "print(\"\\nTest Predictions:\")\n",
    "for i in range(test_samples):\n",
    "    print(f\"Sample {i+1}: Predicted Class {predicted_classes[i].item()} with Confidence {torch.max(probabilities[i]).item():.2f}\")\n",
    "\n"
   ]
  },
  {
   "cell_type": "markdown",
   "metadata": {
    "id": "a7Zooa0LLrGC"
   },
   "source": [
    "New attempt"
   ]
  },
  {
   "cell_type": "code",
   "execution_count": null,
   "metadata": {
    "executionInfo": {
     "elapsed": 4,
     "status": "ok",
     "timestamp": 1745925336860,
     "user": {
      "displayName": "John van Noort",
      "userId": "07435061462309627171"
     },
     "user_tz": -120
    },
    "id": "jccTRyFtLt_6"
   },
   "outputs": [],
   "source": []
  },
  {
   "cell_type": "code",
   "execution_count": 14,
   "metadata": {
    "colab": {
     "base_uri": "https://localhost:8080/"
    },
    "executionInfo": {
     "elapsed": 17448,
     "status": "ok",
     "timestamp": 1745925466177,
     "user": {
      "displayName": "John van Noort",
      "userId": "07435061462309627171"
     },
     "user_tz": -120
    },
    "id": "HLIY3VxcNXHY",
    "outputId": "90a9acc1-5d96-4eaa-dd07-55bc094a5251"
   },
   "outputs": [
    {
     "ename": "NameError",
     "evalue": "name 'random_split' is not defined",
     "output_type": "error",
     "traceback": [
      "\u001b[31m---------------------------------------------------------------------------\u001b[39m",
      "\u001b[31mNameError\u001b[39m                                 Traceback (most recent call last)",
      "\u001b[36mCell\u001b[39m\u001b[36m \u001b[39m\u001b[32mIn[14]\u001b[39m\u001b[32m, line 85\u001b[39m\n\u001b[32m     83\u001b[39m train_size = \u001b[38;5;28mint\u001b[39m(\u001b[32m0.8\u001b[39m * \u001b[38;5;28mlen\u001b[39m(dataset)) \u001b[38;5;66;03m# 80% for training\u001b[39;00m\n\u001b[32m     84\u001b[39m val_size = \u001b[38;5;28mlen\u001b[39m(dataset) - train_size \u001b[38;5;66;03m# Remaining for validation\u001b[39;00m\n\u001b[32m---> \u001b[39m\u001b[32m85\u001b[39m train_dataset, val_dataset = \u001b[43mrandom_split\u001b[49m(dataset, [train_size, val_size])\n\u001b[32m     87\u001b[39m \u001b[38;5;66;03m# Create dataloaders for train and validation sets\u001b[39;00m\n\u001b[32m     88\u001b[39m train_dataloader = DataLoader(train_dataset, batch_size=\u001b[32m32\u001b[39m, shuffle=\u001b[38;5;28;01mTrue\u001b[39;00m)\n",
      "\u001b[31mNameError\u001b[39m: name 'random_split' is not defined"
     ]
    }
   ],
   "source": [
    "import torch\n",
    "import torch.nn as nn\n",
    "import torch.optim as optim\n",
    "from torch.utils.data import Dataset, DataLoader\n",
    "import numpy as np\n",
    "\n",
    "# Generate sample dataset\n",
    "def generate_dataset(num_samples, seq_length, num_letters):\n",
    "    data = []\n",
    "    labels = []\n",
    "    for _ in range(num_samples):\n",
    "        # Generate random sequence of letters\n",
    "        sequence = ''.join(np.random.choice(list('atgcAT'), size=seq_length))\n",
    "\n",
    "        # Assign probability based on some criteria (example)\n",
    "        # You should replace this with your actual logic\n",
    "        probability = np.random.rand()\n",
    "        if sequence[seq_length // 2] == 'a':  # Example: higher probability if center letter is 'a'\n",
    "            probability += 0.2\n",
    "        probability = np.clip(probability, 0, 1)  # Ensure probability is in [0, 1]\n",
    "\n",
    "        data.append(sequence)\n",
    "        labels.append(probability)\n",
    "\n",
    "    return data, labels\n",
    "\n",
    "# Define the dataset class\n",
    "class TimeSeriesDataset(Dataset):\n",
    "    def __init__(self, data, labels, seq_length, num_letters):\n",
    "        self.data = data\n",
    "        self.labels = labels\n",
    "        self.seq_length = seq_length\n",
    "        self.num_letters = num_letters\n",
    "        self.letter_to_index = {letter: index for index, letter in enumerate(list('atgcAT'))}\n",
    "\n",
    "    def __len__(self):\n",
    "        return len(self.data)\n",
    "\n",
    "    def __getitem__(self, idx):\n",
    "        sequence = self.data[idx]\n",
    "        label = self.labels[idx]\n",
    "\n",
    "        # One-hot encoding for letters\n",
    "        sequence_encoded = torch.zeros(self.seq_length, self.num_letters)\n",
    "        for i, letter in enumerate(sequence):\n",
    "            sequence_encoded[i, self.letter_to_index[letter]] = 1\n",
    "\n",
    "        return sequence_encoded, torch.tensor([label], dtype=torch.float32)\n",
    "\n",
    "# Define the CNN model\n",
    "class TimeSeriesModel(nn.Module):\n",
    "    def __init__(self, embedding_dim, num_filters, kernel_size, output_size, num_letters):\n",
    "        super(TimeSeriesModel, self).__init__()\n",
    "        self.embedding = nn.Embedding(num_letters, embedding_dim)\n",
    "        self.conv1 = nn.Conv1d(embedding_dim, num_filters, kernel_size)\n",
    "        self.relu = nn.ReLU()\n",
    "        self.fc_input_size = (seq_length - kernel_size + 1) * num_filters\n",
    "        self.fc = nn.Linear(self.fc_input_size, output_size)\n",
    "        self.sigmoid = nn.Sigmoid()\n",
    "\n",
    "    def forward(self, x):\n",
    "        # Convert one-hot encoded input to indices for embedding layer\n",
    "        x = torch.argmax(x, dim=-1)  # Get indices of the maximum values along the last dimension\n",
    "        x = self.embedding(x)  #removed .long()\n",
    "        x = x.permute(0, 2, 1)  # Reshape for Conv1d: (batch_size, embedding_dim, seq_length)\n",
    "        x = self.conv1(x)\n",
    "        x = self.relu(x)\n",
    "        x = x.view(x.size(0), -1)  # Flatten\n",
    "        x = self.fc(x)\n",
    "        x = self.sigmoid(x)\n",
    "        return x\n",
    "\n",
    "# Generate sample data\n",
    "num_samples = 1000\n",
    "seq_length = 200\n",
    "num_letters = 6\n",
    "data, labels = generate_dataset(num_samples, seq_length, num_letters)\n",
    "\n",
    "# Create dataset\n",
    "dataset = TimeSeriesDataset(data, labels, seq_length, num_letters)\n",
    "\n",
    "# Split dataset into train and validation sets\n",
    "train_size = int(0.8 * len(dataset)) # 80% for training\n",
    "val_size = len(dataset) - train_size # Remaining for validation\n",
    "train_dataset, val_dataset = random_split(dataset, [train_size, val_size])\n",
    "\n",
    "# Create dataloaders for train and validation sets\n",
    "train_dataloader = DataLoader(train_dataset, batch_size=32, shuffle=True)\n",
    "val_dataloader = DataLoader(val_dataset, batch_size=32, shuffle=False) # No need to shuffle validation data\n",
    "\n",
    "\n",
    "# Model parameters\n",
    "embedding_dim = 10\n",
    "num_filters = 32\n",
    "kernel_size = 5\n",
    "output_size = 1\n",
    "\n",
    "# Instantiate model, optimizer, and loss function\n",
    "model = TimeSeriesModel(embedding_dim, num_filters, kernel_size, output_size, num_letters)\n",
    "optimizer = optim.Adam(model.parameters(), lr=0.001)\n",
    "criterion = nn.MSELoss()  # Or other suitable loss function\n",
    "\n",
    "# Training loop with validation\n",
    "num_epochs = 10\n",
    "for epoch in range(num_epochs):\n",
    "    # Training\n",
    "    model.train()\n",
    "    for i, (inputs, targets) in enumerate(train_dataloader):\n",
    "        # ... (Forward pass, backward and optimize remain the same)\n",
    "\n",
    "        if (i + 1) % 100 == 0:\n",
    "            print(f'Epoch [{epoch + 1}/{num_epochs}], Step [{i + 1}/{len(train_dataloader)}], Loss: {loss.item():.4f}')\n",
    "\n",
    "    # Validation\n",
    "    model.eval()\n",
    "    val_loss = 0.0\n",
    "    with torch.no_grad():\n",
    "        for inputs, targets in val_dataloader:\n",
    "            outputs = model(inputs)\n",
    "            loss = criterion(outputs, targets)\n",
    "            val_loss += loss.item()\n",
    "\n",
    "    avg_val_loss = val_loss / len(val_dataloader)\n",
    "    print(f'Epoch [{epoch + 1}/{num_epochs}], Validation Loss: {avg_val_loss:.4f}')\n",
    "\n",
    "print(\"Training finished!\")"
   ]
  },
],
 "metadata": {
  "colab": {
   "authorship_tag": "ABX9TyMDEE+vLZmOMzfF18vXRtiC",
   "provenance": []
  },
  "kernelspec": {
   "display_name": ".venv",
   "language": "python",
   "name": "python3"
  },
  "language_info": {
   "codemirror_mode": {
    "name": "ipython",
    "version": 3
   },
   "file_extension": ".py",
   "mimetype": "text/x-python",
   "name": "python",
   "nbconvert_exporter": "python",
   "pygments_lexer": "ipython3",
   "version": "3.12.10"
  }
 },
 "nbformat": 4,
 "nbformat_minor": 0
}
