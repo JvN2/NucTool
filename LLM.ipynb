{
    "cells": [
        {
            "cell_type": "markdown",
            "metadata": {},
            "source": [
                "# Learning Methylated Sequence to Dyad Relationship\n",
                "Train a neural network to discover the relationship between 6-letter methylated sequences and dyad positions."
            ]
        },
        {
            "cell_type": "code",
            "execution_count": 50,
            "metadata": {},
            "outputs": [],
            "source": [
                "import numpy as np\n",
                "import torch\n",
                "import torch.nn as nn\n",
                "from torch.utils.data import DataLoader, TensorDataset\n",
                "import matplotlib.pyplot as plt\n",
                "from icecream import ic\n",
                "\n",
                "from ChromatinFibers import simulate_chromatin_fibers, encode_seq"
            ]
        },
        {
            "cell_type": "code",
            "execution_count": 52,
            "metadata": {},
            "outputs": [],
            "source": [
                "# Define a simple model\n",
                "class DyadPredictor(nn.Module):\n",
                "    def __init__(self, seq_len=6, hidden_dim=32):\n",
                "        super().__init__()\n",
                "        # Embed 8-letter alphabet (upper/lower bases) to vectors\n",
                "        self.embed = nn.Embedding(8, 8)\n",
                "        \n",
                "        # Process sequence with Conv1d\n",
                "        self.conv = nn.Conv1d(8, hidden_dim, kernel_size=3, padding=1)\n",
                "        # Final layer now outputs one logit per input position (seq_len)\n",
                "        self.fc = nn.Sequential(\n",
                "            nn.Linear(hidden_dim * seq_len, 32),\n",
                "            nn.ReLU(),\n",
                "            nn.Linear(32, seq_len)  # Predict per-position logits\n",
                "        )\n",
                "    \n",
                "    def forward(self, x):\n",
                "        x = self.embed(x)  # (batch, seq_len) -> (batch, seq_len, 8)\n",
                "        x = x.transpose(1, 2)  # (batch, 8, seq_len)\n",
                "        x = self.conv(x)  # (batch, hidden_dim, seq_len)\n",
                "        x = x.flatten(1)  # (batch, hidden_dim * seq_len)\n",
                "        x = self.fc(x)\n",
                "        return x  # logits (no sigmoid) for BCEWithLogitsLoss"
            ]
        },
        {
            "cell_type": "code",
            "execution_count": 56,
            "metadata": {},
            "outputs": [
                {
                    "name": "stderr",
                    "output_type": "stream",
                    "text": [
                        "100%|██████████| 1000/1000 [03:16<00:00,  5.10it/s]\n",
                        "\n"
                    ]
                },
                {
                    "name": "stdout",
                    "output_type": "stream",
                    "text": [
                        "X shape: torch.Size([1000, 8]), y shape: torch.Size([1000, 8])\n"
                    ]
                }
            ],
            "source": [
                "# Prepare training data\n",
                "# Example: create seq_len windows and per-position binary dyad labels\n",
                "def generate_synthetic_data(n_samples=1000, seq_len=8):\n",
                "    \"\"\"Simulate fibers and return X_tensor (LongTensor, N x seq_len)\n",
                "    and y_tensor (FloatTensor, N x seq_len) with 0/1 indicating dyads in the window.\n",
                "    \"\"\"\n",
                "    dyads_list, sequences = simulate_chromatin_fibers(n_samples=n_samples, length=1000)\n",
                "    X = []\n",
                "    Y = []\n",
                "    half = seq_len // 2\n",
                "    for dyads, seq in zip(dyads_list, sequences):\n",
                "        # pick first dyad or center if none\n",
                "        dy_positions = np.asarray(dyads, dtype=int) if len(dyads) else np.array([], dtype=int)\n",
                "        dy = int(dy_positions[0]) if dy_positions.size else len(seq) // 2\n",
                "        start = max(0, min(dy - half, len(seq) - seq_len))\n",
                "        window = seq[start:start + seq_len]\n",
                "        encoded = encode_seq(window)\n",
                "        X.append(encoded)\n",
                "        # build binary label vector for dyads falling into window\n",
                "        label = np.zeros(seq_len, dtype=np.float32)\n",
                "        for d in dy_positions:\n",
                "            if start <= d < start + seq_len:\n",
                "                label[d - start] = 1.0\n",
                "        Y.append(label)\n",
                "    X_tensor = torch.LongTensor(X)\n",
                "    y_tensor = torch.from_numpy(np.stack(Y).astype(np.float32))\n",
                "    return X_tensor, y_tensor\n",
                "\n",
                "X_tensor, y_tensor = generate_synthetic_data()\n",
                "print(f\"X shape: {X_tensor.shape}, y shape: {y_tensor.shape}\")\n",
                "dataset = TensorDataset(X_tensor, y_tensor)\n",
                "train_loader = DataLoader(dataset, batch_size=32, shuffle=True)"
            ]
        },
        {
            "cell_type": "code",
            "execution_count": 57,
            "metadata": {},
            "outputs": [
                {
                    "name": "stdout",
                    "output_type": "stream",
                    "text": [
                        "Epoch 10/50, Loss: 0.0004\n",
                        "Epoch 20/50, Loss: 0.0002\n",
                        "Epoch 20/50, Loss: 0.0002\n",
                        "Epoch 30/50, Loss: 0.0001\n",
                        "Epoch 30/50, Loss: 0.0001\n",
                        "Epoch 40/50, Loss: 0.0000\n",
                        "Epoch 40/50, Loss: 0.0000\n",
                        "Epoch 50/50, Loss: 0.0000\n",
                        "Epoch 50/50, Loss: 0.0000\n"
                    ]
                },
                {
                    "data": {
                        "image/png": "[encoded data removed]",
                        "text/plain": [
                            "<Figure size 800x400 with 1 Axes>"
                        ]
                    },
                    "metadata": {},
                    "output_type": "display_data"
                }
            ],
            "source": [
                "# Train the model\n",
                "device = torch.device('cuda' if torch.cuda.is_available() else 'cpu')\n",
                "# Instantiate model with the actual sequence length from the data to avoid shape mismatches\n",
                "model = DyadPredictor(seq_len=X_tensor.shape[1]).to(device)\n",
                "optimizer = torch.optim.Adam(model.parameters(), lr=1e-3)\n",
                "criterion = nn.BCEWithLogitsLoss()\n",
                "# per-position binary targets\n",
                "epochs = 50\n",
                "losses = []\n",
                "\n",
                "for epoch in range(epochs):\n",
                "    epoch_loss = 0\n",
                "    for batch_X, batch_y in train_loader:\n",
                "        batch_X, batch_y = batch_X.to(device), batch_y.to(device)\n",
                "        \n",
                "        optimizer.zero_grad()\n",
                "        pred_logits = model(batch_X)  # shape (B, seq_len)\n",
                "        loss = criterion(pred_logits, batch_y)\n",
                "        loss.backward()\n",
                "        optimizer.step()\n",
                "        epoch_loss += loss.item()\n",
                "    \n",
                "    avg_loss = epoch_loss / len(train_loader)\n",
                "    losses.append(avg_loss)\n",
                "    if (epoch + 1) % 10 == 0:\n",
                "        print(f\"Epoch {epoch+1}/{epochs}, Loss: {avg_loss:.4f}\")\n",
                "\n",
                "plt.figure(figsize=(8, 4))\n",
                "plt.plot(losses)\n",
                "plt.xlabel('Epoch')\n",
                "plt.ylabel('Loss')\n",
                "plt.title('Training Loss')\n",
                "plt.show()"
            ]
        },
        {
            "cell_type": "code",
            "execution_count": 58,
            "metadata": {},
            "outputs": [
                {
                    "name": "stdout",
                    "output_type": "stream",
                    "text": [
                        "Test sequence (from data): [[2 0 3 3 2 0 3 3]]\n",
                        "Predicted per-position probabilities: [[6.0197763e-06 1.5177861e-06 8.7657014e-08 9.3440960e-08 9.9999845e-01\n",
                        "  5.6350524e-07 4.9503558e-07 3.5353710e-07]]\n",
                        "Predicted dyad positions (>=0.5): [4]\n"
                    ]
                }
            ],
            "source": [
                "# Test the model\n",
                "model.eval()\n",
                "with torch.no_grad():\n",
                "    test_seq = X_tensor[:1].to(device)  # shape (1, seq_len)\n",
                "    logits = model(test_seq)  # (1, seq_len)\n",
                "    probs = torch.sigmoid(logits)\n",
                "    print(f\"Test sequence (from data): {test_seq.cpu().numpy()}\")\n",
                "    print(f\"Predicted per-position probabilities: {probs.cpu().numpy()}\" )\n",
                "    print(f\"Predicted dyad positions (>=0.5): {np.where(probs.cpu().numpy().ravel() >= 0.5)[0]}\" )"
            ]
        },
        {
            "cell_type": "markdown",
            "metadata": {},
            "source": [
                "## To use with your data:\n",
                "1. Provide your `methylated_sequence` (6 letters, encoded 0-5)\n",
                "2. Provide corresponding `dyads` positions (normalized 0-1 or as indices)\n",
                "3. Replace `generate_synthetic_data()` with your actual data\n",
                "4. Adjust model architecture if needed"
            ]
        },
        {
            "cell_type": "code",
            "execution_count": null,
            "metadata": {},
            "outputs": [],
            "source": [
                "test_dyads, test_sequence = generate_synthetic_data(n_samples=1, seq_len=8)"
            ]
        }
    ],
    "metadata": {
        "kernelspec": {
            "display_name": ".venv",
            "language": "python",
            "name": "python3"
        },
        "language_info": {
            "name": "python",
            "version": "3.11.9"
        }
    },
    "nbformat": 4,
    "nbformat_minor": 4
}
