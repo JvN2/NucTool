{
 "cells": [
  {
   "cell_type": "markdown",
   "metadata": {},
   "source": [
    "# Dyad Position Predictor\n",
    "Train a neural network to predict dyad positions on a per-position basis from encoded DNA sequences (0-7)."
   ]
  },
  {
   "cell_type": "code",
   "execution_count": null,
   "metadata": {},
   "outputs": [],
   "source": [
    "import numpy as np\n",
    "import torch\n",
    "import torch.nn as nn\n",
    "from torch.utils.data import DataLoader, Dataset\n",
    "import matplotlib.pyplot as plt\n",
    "from tqdm import tqdm\n",
    "import json\n",
    "from pathlib import Path\n",
    "\n",
    "from ChromatinFibers import simulate_chromatin_fibers, SimulationParams, SequencePlotter"
   ]
  },
  {
   "cell_type": "code",
   "execution_count": null,
   "metadata": {},
   "outputs": [
    {
     "name": "stdout",
     "output_type": "stream",
     "text": [
      "Simulation parameters:\n",
      "  n_samples: 10\n",
      "  length_bp: 10000\n",
      "  amplitude: 0.05\n",
      "  period_bp: 10.0\n",
      "  chemical_potential_kT: 0.0\n",
      "  e_contact_kT: -0.5\n",
      "  motifs: ('A',)\n",
      "  strand: both\n",
      "  efficiency: 0.7\n",
      "  steric_exclusion_bp: 0\n"
     ]
    }
   ],
   "source": [
    "# Define simulation parameters and filename\n",
    "simulation_params = SimulationParams(n_samples=10)\n",
    "\n",
    "print(\"Simulation parameters:\")\n",
    "for key, value in simulation_params.__dict__.items():\n",
    "    print(f\"  {key}: {value}\")\n",
    "\n",
    "filename = rf\"data/LLM models/dyad_predictor {simulation_params.n_samples}_{simulation_params.length_bp}.pt\"\n",
    "plotter = SequencePlotter()"
   ]
  },
  {
   "cell_type": "code",
   "execution_count": null,
   "metadata": {},
   "outputs": [
    {
     "name": "stderr",
     "output_type": "stream",
     "text": [
      "100%|██████████| 10/10 [01:03<00:00,  6.34s/it]"
     ]
    },
    {
     "name": "stdout",
     "output_type": "stream",
     "text": [
      "Data saved: data/LLM models/dyad_predictor 10_10000.npz\n",
      "Simulation parameters written to: data/LLM models/dyad_predictor 10_10000.json\n"
     ]
    },
    {
     "name": "stderr",
     "output_type": "stream",
     "text": [
      "\n"
     ]
    }
   ],
   "source": [
    "# Generate data if filename does not exist\n",
    "data_filename = filename.replace(\".pt\", \".npz\")\n",
    "if Path(data_filename).exists() is False:\n",
    "    dyad_positions, _, encoded_seq = simulate_chromatin_fibers(simulation_params)\n",
    "\n",
    "    np.savez_compressed(\n",
    "        data_filename,\n",
    "        dyad_positions=np.array(dyad_positions, dtype=object),\n",
    "        encoded_seq=np.array(encoded_seq, dtype=object),\n",
    "    )\n",
    "\n",
    "    # Write/merge simulation parameters into a unified config JSON\n",
    "    config_path = Path(filename).with_suffix(\".json\")\n",
    "    if config_path.exists():\n",
    "        with open(config_path, \"r\") as f:\n",
    "            existing_config = json.load(f)\n",
    "    else:\n",
    "        existing_config = {}\n",
    "\n",
    "    existing_config[\"simulation\"] = simulation_params.__dict__\n",
    "\n",
    "    with open(config_path, \"w\") as f:\n",
    "        json.dump(existing_config, f, indent=4)\n",
    "\n",
    "    print(\"Data saved:\", data_filename)\n",
    "    print(\"Simulation parameters written to:\", config_path)\n",
    "else:\n",
    "    print(\"Data already exists, skipping simulation.\")\n",
    "    data = np.load(data_filename, allow_pickle=True)\n",
    "    dyad_positions = data[\"dyad_positions\"]\n",
    "    encoded_seq = data[\"encoded_seq\"]"
   ]
  },
  {
   "cell_type": "markdown",
   "metadata": {},
   "source": [
    "## Step 1: Define the Model Architecture"
   ]
  },
  {
   "cell_type": "code",
   "execution_count": null,
   "metadata": {},
   "outputs": [],
   "source": [
    "class DyadPredictor(nn.Module):\n",
    "    \"\"\"Per-position dyad predictor using Conv1d and bidirectional context.\"\"\"\n",
    "\n",
    "    def __init__(\n",
    "        self, vocab_size=8, embedding_dim=16, hidden_dim=64, num_layers=2, dropout=0.3\n",
    "    ):\n",
    "        super().__init__()\n",
    "        self.vocab_size = vocab_size\n",
    "\n",
    "        # Embedding layer (map 0-7 to dense vectors)\n",
    "        self.embedding = nn.Embedding(vocab_size, embedding_dim)\n",
    "\n",
    "        # Conv blocks for local context\n",
    "        self.conv1 = nn.Conv1d(embedding_dim, hidden_dim, kernel_size=5, padding=2)\n",
    "        self.conv2 = nn.Conv1d(hidden_dim, hidden_dim, kernel_size=5, padding=2)\n",
    "        self.bn1 = nn.BatchNorm1d(hidden_dim)\n",
    "        self.bn2 = nn.BatchNorm1d(hidden_dim)\n",
    "\n",
    "        # BiLSTM for global context\n",
    "        self.lstm = nn.LSTM(\n",
    "            hidden_dim,\n",
    "            hidden_dim // 2,\n",
    "            num_layers=num_layers,\n",
    "            bidirectional=True,\n",
    "            dropout=dropout if num_layers > 1 else 0,\n",
    "            batch_first=True,\n",
    "        )\n",
    "\n",
    "        # Output head\n",
    "        self.fc = nn.Sequential(\n",
    "            nn.Linear(hidden_dim, hidden_dim // 2),\n",
    "            nn.ReLU(),\n",
    "            nn.Dropout(dropout),\n",
    "            nn.Linear(hidden_dim // 2, 1),\n",
    "        )\n",
    "\n",
    "    def forward(self, x):\n",
    "        \"\"\"Forward pass.\n",
    "        Args:\n",
    "            x: (batch_size, seq_len) - encoded sequence\n",
    "        Returns:\n",
    "            logits: (batch_size, seq_len, 1) - per-position dyad logits\n",
    "        \"\"\"\n",
    "        # Embedding: (batch, seq_len) -> (batch, seq_len, embed_dim)\n",
    "        x = self.embedding(x)\n",
    "\n",
    "        # Conv blocks: (batch, seq_len, embed_dim) -> (batch, embed_dim, seq_len)\n",
    "        x = x.transpose(1, 2)\n",
    "        x = self.conv1(x)\n",
    "        x = self.bn1(x)\n",
    "        x = torch.relu(x)\n",
    "\n",
    "        x = self.conv2(x)\n",
    "        x = self.bn2(x)\n",
    "        x = torch.relu(x)\n",
    "\n",
    "        # Back to (batch, seq_len, hidden_dim)\n",
    "        x = x.transpose(1, 2)\n",
    "\n",
    "        # LSTM: (batch, seq_len, hidden_dim) -> (batch, seq_len, hidden_dim)\n",
    "        x, _ = self.lstm(x)\n",
    "\n",
    "        # Per-position classification: (batch, seq_len, hidden_dim) -> (batch, seq_len, 1)\n",
    "        logits = self.fc(x)\n",
    "\n",
    "        return logits"
   ]
  },
  {
   "cell_type": "markdown",
   "metadata": {},
   "source": [
    "## Step 2: Define Custom Dataset"
   ]
  },
  {
   "cell_type": "code",
   "execution_count": null,
   "metadata": {},
   "outputs": [],
   "source": [
    "class DyadDataset(Dataset):\n",
    "    \"\"\"Memory-mapped dataset for dyad position prediction - loads data on-demand from disk.\"\"\"\n",
    "\n",
    "    def __init__(self, data_filename, indices=None, max_seq_len=None):\n",
    "        \"\"\"\n",
    "        Args:\n",
    "            data_filename: path to .npz file containing dyad_positions and encoded_seq\n",
    "            indices: list of sample indices to use (for train/val/test split)\n",
    "            max_seq_len: optional, pad/truncate sequences to this length\n",
    "        \"\"\"\n",
    "        self.data_filename = data_filename\n",
    "        self.indices = indices\n",
    "\n",
    "        # Load metadata only (not actual arrays) to determine dataset size and max_seq_len\n",
    "        with np.load(data_filename, allow_pickle=True, mmap_mode=\"r\") as data:\n",
    "            self.n_total_samples = len(data[\"dyad_positions\"])\n",
    "\n",
    "            # Compute max_seq_len if not provided\n",
    "            if max_seq_len is None:\n",
    "                if indices is not None:\n",
    "                    # Only check sequences we'll actually use\n",
    "                    self.max_seq_len = max(len(data[\"encoded_seq\"][i]) for i in indices)\n",
    "                else:\n",
    "                    # Check all sequences\n",
    "                    self.max_seq_len = max(len(seq) for seq in data[\"encoded_seq\"])\n",
    "            else:\n",
    "                self.max_seq_len = max_seq_len\n",
    "\n",
    "        # Default to all samples if no indices provided\n",
    "        if self.indices is None:\n",
    "            self.indices = list(range(self.n_total_samples))\n",
    "\n",
    "    def __len__(self):\n",
    "        return len(self.indices)\n",
    "\n",
    "    def __getitem__(self, idx):\n",
    "        # Map dataset index to actual file index\n",
    "        real_idx = self.indices[idx]\n",
    "\n",
    "        # Load only the requested sample from disk (memory-mapped)\n",
    "        with np.load(self.data_filename, allow_pickle=True, mmap_mode=\"r\") as data:\n",
    "            dyad_pos = data[\"dyad_positions\"][real_idx]\n",
    "            encoded_seq = data[\"encoded_seq\"][real_idx]\n",
    "\n",
    "        # Convert to regular numpy arrays (handle object array wrapping)\n",
    "        dyad_pos = np.asarray(dyad_pos, dtype=np.int64)\n",
    "        encoded_seq = np.asarray(encoded_seq, dtype=np.int64)\n",
    "\n",
    "        seq_len = len(encoded_seq)\n",
    "\n",
    "        # Create binary label: 1 if dyad at position, 0 otherwise\n",
    "        label = np.zeros(seq_len, dtype=np.float32)\n",
    "        for pos in dyad_pos:\n",
    "            if 0 <= pos < seq_len:\n",
    "                label[pos] = 1.0\n",
    "\n",
    "        # Convert to tensors\n",
    "        seq_tensor = torch.LongTensor(encoded_seq)\n",
    "        label_tensor = torch.FloatTensor(label)\n",
    "\n",
    "        # Pad/truncate to max_seq_len\n",
    "        if seq_len < self.max_seq_len:\n",
    "            pad_len = self.max_seq_len - seq_len\n",
    "            seq_tensor = torch.nn.functional.pad(seq_tensor, (0, pad_len), value=0)\n",
    "            label_tensor = torch.nn.functional.pad(\n",
    "                label_tensor, (0, pad_len), value=-1\n",
    "            )  # -1 for padding\n",
    "        elif seq_len > self.max_seq_len:\n",
    "            seq_tensor = seq_tensor[: self.max_seq_len]\n",
    "            label_tensor = label_tensor[: self.max_seq_len]\n",
    "\n",
    "        return seq_tensor, label_tensor"
   ]
  },
  {
   "cell_type": "markdown",
   "metadata": {},
   "source": [
    "## Step 3: Load Your Data\n",
    "Replace this with your actual data loading logic."
   ]
  },
  {
   "cell_type": "code",
   "execution_count": null,
   "metadata": {},
   "outputs": [
    {
     "name": "stdout",
     "output_type": "stream",
     "text": [
      "Dataset split - Train: 7, Val: 1, Test: 2\n",
      "Total samples: 10\n",
      "Memory-mapped mode: Data will be loaded on-demand during training\n"
     ]
    }
   ],
   "source": [
    "# Create train/val/test split using indices (no data loaded into memory yet)\n",
    "# This approach scales to arbitrarily large datasets\n",
    "\n",
    "# Get total number of samples from the data file\n",
    "with np.load(data_filename, allow_pickle=True, mmap_mode=\"r\") as data:\n",
    "    n_total = len(data[\"dyad_positions\"])\n",
    "\n",
    "# Split indices for train/val/test\n",
    "n_train = int(0.7 * n_total)\n",
    "n_val = int(0.15 * n_total)\n",
    "\n",
    "train_indices = list(range(n_train))\n",
    "val_indices = list(range(n_train, n_train + n_val))\n",
    "test_indices = list(range(n_train + n_val, n_total))\n",
    "\n",
    "print(\n",
    "    f\"Dataset split - Train: {len(train_indices)}, Val: {len(val_indices)}, Test: {len(test_indices)}\"\n",
    ")\n",
    "print(f\"Total samples: {n_total}\")\n",
    "print(f\"Memory-mapped mode: Data will be loaded on-demand during training\")"
   ]
  },
  {
   "cell_type": "markdown",
   "metadata": {},
   "source": [
    "## Step 4: Create DataLoaders"
   ]
  },
  {
   "cell_type": "code",
   "execution_count": null,
   "metadata": {},
   "outputs": [
    {
     "name": "stdout",
     "output_type": "stream",
     "text": [
      "Max sequence length: 10000\n",
      "DataLoaders created: train=1 batches, val=1, test=1\n",
      "Using 2 worker processes for data loading\n",
      "Memory footprint: Minimal (data loaded on-demand)\n"
     ]
    }
   ],
   "source": [
    "# Create memory-mapped datasets (data loaded on-demand, not held in RAM)\n",
    "train_dataset = DyadDataset(data_filename, indices=train_indices)\n",
    "val_dataset = DyadDataset(\n",
    "    data_filename, indices=val_indices, max_seq_len=train_dataset.max_seq_len\n",
    ")\n",
    "test_dataset = DyadDataset(\n",
    "    data_filename, indices=test_indices, max_seq_len=train_dataset.max_seq_len\n",
    ")\n",
    "\n",
    "batch_size = 32\n",
    "\n",
    "# Enable multi-processing to parallelize disk I/O\n",
    "# Set num_workers=0 if you get errors (Windows compatibility issue)\n",
    "# Set num_workers=2-4 for best performance on Linux/Mac\n",
    "num_workers = 2  # Adjust based on your CPU cores\n",
    "\n",
    "train_loader = DataLoader(\n",
    "    train_dataset,\n",
    "    batch_size=batch_size,\n",
    "    shuffle=True,\n",
    "    num_workers=num_workers,\n",
    "    persistent_workers=True if num_workers > 0 else False,\n",
    ")\n",
    "val_loader = DataLoader(\n",
    "    val_dataset,\n",
    "    batch_size=batch_size,\n",
    "    shuffle=False,\n",
    "    num_workers=num_workers,\n",
    "    persistent_workers=True if num_workers > 0 else False,\n",
    ")\n",
    "test_loader = DataLoader(\n",
    "    test_dataset,\n",
    "    batch_size=batch_size,\n",
    "    shuffle=False,\n",
    "    num_workers=num_workers,\n",
    "    persistent_workers=True if num_workers > 0 else False,\n",
    ")\n",
    "\n",
    "print(f\"Max sequence length: {train_dataset.max_seq_len}\")\n",
    "print(\n",
    "    f\"DataLoaders created: train={len(train_loader)} batches, val={len(val_loader)}, test={len(test_loader)}\"\n",
    ")\n",
    "print(f\"Using {num_workers} worker processes for data loading\")\n",
    "print(f\"Memory footprint: Minimal (data loaded on-demand)\")"
   ]
  },
  {
   "cell_type": "markdown",
   "metadata": {},
   "source": [
    "## Step 5: Initialize Model and Training Components"
   ]
  },
  {
   "cell_type": "code",
   "execution_count": null,
   "metadata": {},
   "outputs": [
    {
     "name": "stdout",
     "output_type": "stream",
     "text": [
      "Using device: cpu\n",
      "Model parameters: 78,401\n",
      "Model parameters: 78,401\n"
     ]
    }
   ],
   "source": [
    "device = torch.device(\"cuda\" if torch.cuda.is_available() else \"cpu\")\n",
    "print(f\"Using device: {device}\")\n",
    "\n",
    "model = DyadPredictor(\n",
    "    vocab_size=8, embedding_dim=16, hidden_dim=64, num_layers=2, dropout=0.3\n",
    ")\n",
    "model = model.to(device)\n",
    "\n",
    "# Loss function: BCEWithLogitsLoss (combines sigmoid + BCE)\n",
    "pos_weight = torch.tensor([10.0]).to(device)\n",
    "criterion = nn.BCEWithLogitsLoss(pos_weight=pos_weight, reduction=\"none\")\n",
    "\n",
    "optimizer = torch.optim.Adam(model.parameters(), lr=1e-3, weight_decay=1e-5)\n",
    "# ReduceLROnPlateau without 'verbose' for compatibility with older PyTorch versions\n",
    "scheduler = torch.optim.lr_scheduler.ReduceLROnPlateau(\n",
    "    optimizer, mode=\"min\", factor=0.5, patience=3\n",
    ")\n",
    "\n",
    "print(f\"Model parameters: {sum(p.numel() for p in model.parameters()):,}\")"
   ]
  },
  {
   "cell_type": "code",
   "execution_count": null,
   "metadata": {},
   "outputs": [
    {
     "name": "stdout",
     "output_type": "stream",
     "text": [
      "Computed pos_weight: 100.0000\n"
     ]
    },
    {
     "data": {
      "text/plain": [
       "BCEWithLogitsLoss()"
      ]
     },
     "execution_count": 9,
     "metadata": {},
     "output_type": "execute_result"
    }
   ],
   "source": [
    "# Compute a pos_weight from training data (ignore padding where label == -1)\n",
    "\n",
    "\n",
    "def compute_pos_weight_from_dataset(dataset):\n",
    "    pos = 0\n",
    "    neg = 0\n",
    "    for seq_tensor, label_tensor in dataset:\n",
    "        arr = np.asarray(label_tensor)\n",
    "        mask = arr >= 0  # only count real positions, not padding (-1)\n",
    "        if mask.sum() == 0:\n",
    "            continue\n",
    "        pos += int((arr[mask] == 1).sum())\n",
    "        neg += int((arr[mask] == 0).sum())\n",
    "    # Avoid division by zero\n",
    "    if pos == 0:\n",
    "        print(\n",
    "            \"Warning: no positive examples found in train_dataset; setting pos=1 to avoid division by zero\"\n",
    "        )\n",
    "        pos = 1\n",
    "    # pos_weight used by BCEWithLogitsLoss scales the positive class loss: pos_weight = neg/pos\n",
    "    pw = float(neg) / float(pos)\n",
    "    return torch.tensor([pw], dtype=torch.float32)\n",
    "\n",
    "\n",
    "# Compute and clamp pos_weight to a reasonable range to avoid extreme scaling\n",
    "pos_weight = compute_pos_weight_from_dataset(train_dataset).to(device)\n",
    "pos_weight = torch.clamp(pos_weight, min=1.0, max=100.0)\n",
    "print(f\"Computed pos_weight: {pos_weight.item():.4f}\")\n",
    "\n",
    "# Define the weighted criterion (reduction='none' so you can mask padding later)\n",
    "criterion_weighted = nn.BCEWithLogitsLoss(pos_weight=pos_weight, reduction=\"none\")\n",
    "\n",
    "# Expose for REPL visibility\n",
    "criterion_weighted"
   ]
  },
  {
   "cell_type": "markdown",
   "metadata": {},
   "source": [
    "## Step 6: Training Loop"
   ]
  },
  {
   "cell_type": "code",
   "execution_count": 10,
   "metadata": {},
   "outputs": [
    {
     "name": "stdout",
     "output_type": "stream",
     "text": [
      "Starting training...\n"
     ]
    },
    {
     "name": "stderr",
     "output_type": "stream",
     "text": [
      "Training: 100%|██████████| 1/1 [00:11<00:00, 11.74s/it]\n",
      "Training: 100%|██████████| 1/1 [00:11<00:00, 11.74s/it]\n",
      "Validating: 100%|██████████| 1/1 [00:00<00:00,  1.61it/s]\n",
      "\n"
     ]
    },
    {
     "name": "stdout",
     "output_type": "stream",
     "text": [
      "Epoch 1/50 | Train Loss: 1.0301 | Val Loss: 1.0193\n",
      "  Saved best model to data/LLM models/dyad_predictor 10_10000.pt\n"
     ]
    },
    {
     "name": "stderr",
     "output_type": "stream",
     "text": [
      "Training: 100%|██████████| 1/1 [00:14<00:00, 14.32s/it]\n",
      "Training: 100%|██████████| 1/1 [00:14<00:00, 14.32s/it]\n",
      "Validating: 100%|██████████| 1/1 [00:00<00:00,  2.66it/s]\n",
      "\n"
     ]
    },
    {
     "name": "stdout",
     "output_type": "stream",
     "text": [
      "Epoch 2/50 | Train Loss: 1.0174 | Val Loss: 1.0132\n",
      "  Saved best model to data/LLM models/dyad_predictor 10_10000.pt\n"
     ]
    },
    {
     "name": "stderr",
     "output_type": "stream",
     "text": [
      "Training: 100%|██████████| 1/1 [00:10<00:00, 10.96s/it]\n",
      "Training: 100%|██████████| 1/1 [00:10<00:00, 10.96s/it]\n",
      "Validating: 100%|██████████| 1/1 [00:00<00:00,  3.01it/s]\n",
      "Validating: 100%|██████████| 1/1 [00:00<00:00,  3.01it/s]\n"
     ]
    },
    {
     "name": "stdout",
     "output_type": "stream",
     "text": [
      "Epoch 3/50 | Train Loss: 1.0063 | Val Loss: 1.0066\n",
      "  Saved best model to data/LLM models/dyad_predictor 10_10000.pt\n"
     ]
    },
    {
     "name": "stderr",
     "output_type": "stream",
     "text": [
      "Training: 100%|██████████| 1/1 [00:09<00:00,  9.90s/it]\n",
      "Training: 100%|██████████| 1/1 [00:09<00:00,  9.90s/it]\n",
      "Validating: 100%|██████████| 1/1 [00:00<00:00,  3.08it/s]\n",
      "Validating: 100%|██████████| 1/1 [00:00<00:00,  3.08it/s]\n"
     ]
    },
    {
     "name": "stdout",
     "output_type": "stream",
     "text": [
      "Epoch 4/50 | Train Loss: 0.9956 | Val Loss: 0.9992\n",
      "  Saved best model to data/LLM models/dyad_predictor 10_10000.pt\n"
     ]
    },
    {
     "name": "stderr",
     "output_type": "stream",
     "text": [
      "Training: 100%|██████████| 1/1 [00:09<00:00,  9.53s/it]\n",
      "Training: 100%|██████████| 1/1 [00:09<00:00,  9.53s/it]\n",
      "Validating: 100%|██████████| 1/1 [00:00<00:00,  3.34it/s]\n",
      "\n"
     ]
    },
    {
     "name": "stdout",
     "output_type": "stream",
     "text": [
      "Epoch 5/50 | Train Loss: 0.9844 | Val Loss: 0.9908\n",
      "  Saved best model to data/LLM models/dyad_predictor 10_10000.pt\n"
     ]
    },
    {
     "name": "stderr",
     "output_type": "stream",
     "text": [
      "Training: 100%|██████████| 1/1 [00:08<00:00,  8.97s/it]\n",
      "Training: 100%|██████████| 1/1 [00:08<00:00,  8.97s/it]\n",
      "Validating: 100%|██████████| 1/1 [00:00<00:00,  2.93it/s]\n",
      "Validating: 100%|██████████| 1/1 [00:00<00:00,  2.93it/s]\n"
     ]
    },
    {
     "name": "stdout",
     "output_type": "stream",
     "text": [
      "Epoch 6/50 | Train Loss: 0.9731 | Val Loss: 0.9809\n",
      "  Saved best model to data/LLM models/dyad_predictor 10_10000.pt\n"
     ]
    },
    {
     "name": "stderr",
     "output_type": "stream",
     "text": [
      "Training: 100%|██████████| 1/1 [00:11<00:00, 11.54s/it]\n",
      "Training: 100%|██████████| 1/1 [00:11<00:00, 11.54s/it]\n",
      "Validating: 100%|██████████| 1/1 [00:00<00:00,  3.39it/s]\n",
      "\n"
     ]
    },
    {
     "name": "stdout",
     "output_type": "stream",
     "text": [
      "Epoch 7/50 | Train Loss: 0.9611 | Val Loss: 0.9694\n",
      "  Saved best model to data/LLM models/dyad_predictor 10_10000.pt\n"
     ]
    },
    {
     "name": "stderr",
     "output_type": "stream",
     "text": [
      "Training: 100%|██████████| 1/1 [00:10<00:00, 10.99s/it]\n",
      "Validating:   0%|          | 0/1 [00:00<?, ?it/s]\n",
      "Validating: 100%|██████████| 1/1 [00:00<00:00,  1.87it/s]\n",
      "\n"
     ]
    },
    {
     "name": "stdout",
     "output_type": "stream",
     "text": [
      "Epoch 8/50 | Train Loss: 0.9477 | Val Loss: 0.9560\n",
      "  Saved best model to data/LLM models/dyad_predictor 10_10000.pt\n"
     ]
    },
    {
     "name": "stderr",
     "output_type": "stream",
     "text": [
      "Training: 100%|██████████| 1/1 [00:10<00:00, 10.22s/it]\n",
      "Training: 100%|██████████| 1/1 [00:10<00:00, 10.22s/it]\n",
      "Validating: 100%|██████████| 1/1 [00:00<00:00,  4.20it/s]\n",
      "\n"
     ]
    },
    {
     "name": "stdout",
     "output_type": "stream",
     "text": [
      "Epoch 9/50 | Train Loss: 0.9335 | Val Loss: 0.9409\n",
      "  Saved best model to data/LLM models/dyad_predictor 10_10000.pt\n"
     ]
    },
    {
     "name": "stderr",
     "output_type": "stream",
     "text": [
      "Training: 100%|██████████| 1/1 [00:59<00:00, 59.61s/it]\n",
      "Training: 100%|██████████| 1/1 [00:59<00:00, 59.61s/it]\n",
      "Validating: 100%|██████████| 1/1 [00:00<00:00,  2.94it/s]\n",
      "\n"
     ]
    },
    {
     "name": "stdout",
     "output_type": "stream",
     "text": [
      "Epoch 10/50 | Train Loss: 0.9173 | Val Loss: 0.9240\n",
      "  Saved best model to data/LLM models/dyad_predictor 10_10000.pt\n"
     ]
    },
    {
     "name": "stderr",
     "output_type": "stream",
     "text": [
      "Training: 100%|██████████| 1/1 [00:10<00:00, 10.98s/it]\n",
      "Training: 100%|██████████| 1/1 [00:10<00:00, 10.98s/it]\n",
      "Validating: 100%|██████████| 1/1 [00:00<00:00,  2.63it/s]\n",
      "\n"
     ]
    },
    {
     "name": "stdout",
     "output_type": "stream",
     "text": [
      "Epoch 11/50 | Train Loss: 0.9025 | Val Loss: 0.9055\n",
      "  Saved best model to data/LLM models/dyad_predictor 10_10000.pt\n"
     ]
    },
    {
     "name": "stderr",
     "output_type": "stream",
     "text": [
      "Training: 100%|██████████| 1/1 [00:11<00:00, 11.48s/it]\n",
      "Training: 100%|██████████| 1/1 [00:11<00:00, 11.48s/it]\n",
      "Validating: 100%|██████████| 1/1 [00:00<00:00,  1.63it/s]\n",
      "\n"
     ]
    },
    {
     "name": "stdout",
     "output_type": "stream",
     "text": [
      "Epoch 12/50 | Train Loss: 0.8854 | Val Loss: 0.8856\n",
      "  Saved best model to data/LLM models/dyad_predictor 10_10000.pt\n"
     ]
    },
    {
     "name": "stderr",
     "output_type": "stream",
     "text": [
      "Training: 100%|██████████| 1/1 [00:16<00:00, 16.02s/it]\n",
      "Training: 100%|██████████| 1/1 [00:16<00:00, 16.02s/it]\n",
      "Validating: 100%|██████████| 1/1 [00:00<00:00,  2.33it/s]\n",
      "Validating: 100%|██████████| 1/1 [00:00<00:00,  2.33it/s]\n"
     ]
    },
    {
     "name": "stdout",
     "output_type": "stream",
     "text": [
      "Epoch 13/50 | Train Loss: 0.8650 | Val Loss: 0.8649\n",
      "  Saved best model to data/LLM models/dyad_predictor 10_10000.pt\n"
     ]
    },
    {
     "name": "stderr",
     "output_type": "stream",
     "text": [
      "Training: 100%|██████████| 1/1 [00:14<00:00, 14.82s/it]\n",
      "Training: 100%|██████████| 1/1 [00:14<00:00, 14.82s/it]\n",
      "Validating: 100%|██████████| 1/1 [00:00<00:00,  2.68it/s]\n",
      "Validating: 100%|██████████| 1/1 [00:00<00:00,  2.68it/s]\n"
     ]
    },
    {
     "name": "stdout",
     "output_type": "stream",
     "text": [
      "Epoch 14/50 | Train Loss: 0.8476 | Val Loss: 0.8441\n",
      "  Saved best model to data/LLM models/dyad_predictor 10_10000.pt\n"
     ]
    },
    {
     "name": "stderr",
     "output_type": "stream",
     "text": [
      "Training: 100%|██████████| 1/1 [00:15<00:00, 15.60s/it]\n",
      "Training: 100%|██████████| 1/1 [00:15<00:00, 15.60s/it]\n",
      "Validating: 100%|██████████| 1/1 [00:00<00:00,  2.79it/s]\n",
      "\n"
     ]
    },
    {
     "name": "stdout",
     "output_type": "stream",
     "text": [
      "Epoch 15/50 | Train Loss: 0.8286 | Val Loss: 0.8235\n",
      "  Saved best model to data/LLM models/dyad_predictor 10_10000.pt\n"
     ]
    },
    {
     "name": "stderr",
     "output_type": "stream",
     "text": [
      "Training: 100%|██████████| 1/1 [00:11<00:00, 11.72s/it]\n",
      "Validating:   0%|          | 0/1 [00:00<?, ?it/s]\n",
      "Validating: 100%|██████████| 1/1 [00:00<00:00,  4.00it/s]\n",
      "\n"
     ]
    },
    {
     "name": "stdout",
     "output_type": "stream",
     "text": [
      "Epoch 16/50 | Train Loss: 0.8086 | Val Loss: 0.8030\n",
      "  Saved best model to data/LLM models/dyad_predictor 10_10000.pt\n"
     ]
    },
    {
     "name": "stderr",
     "output_type": "stream",
     "text": [
      "Training: 100%|██████████| 1/1 [00:13<00:00, 13.02s/it]\n",
      "Validating:   0%|          | 0/1 [00:00<?, ?it/s]\n",
      "Validating: 100%|██████████| 1/1 [00:00<00:00,  3.44it/s]\n",
      "\n"
     ]
    },
    {
     "name": "stdout",
     "output_type": "stream",
     "text": [
      "Epoch 17/50 | Train Loss: 0.7899 | Val Loss: 0.7827\n",
      "  Saved best model to data/LLM models/dyad_predictor 10_10000.pt\n"
     ]
    },
    {
     "name": "stderr",
     "output_type": "stream",
     "text": [
      "Training: 100%|██████████| 1/1 [00:15<00:00, 15.37s/it]\n",
      "Training: 100%|██████████| 1/1 [00:15<00:00, 15.37s/it]\n",
      "Validating: 100%|██████████| 1/1 [00:00<00:00,  2.45it/s]\n",
      "\n"
     ]
    },
    {
     "name": "stdout",
     "output_type": "stream",
     "text": [
      "Epoch 18/50 | Train Loss: 0.7703 | Val Loss: 0.7627\n",
      "  Saved best model to data/LLM models/dyad_predictor 10_10000.pt\n"
     ]
    },
    {
     "name": "stderr",
     "output_type": "stream",
     "text": [
      "Training: 100%|██████████| 1/1 [00:23<00:00, 23.01s/it]\n",
      "Training: 100%|██████████| 1/1 [00:23<00:00, 23.01s/it]\n",
      "Validating: 100%|██████████| 1/1 [00:00<00:00,  2.03it/s]\n",
      "Validating: 100%|██████████| 1/1 [00:00<00:00,  2.03it/s]\n"
     ]
    },
    {
     "name": "stdout",
     "output_type": "stream",
     "text": [
      "Epoch 19/50 | Train Loss: 0.7484 | Val Loss: 0.7434\n",
      "  Saved best model to data/LLM models/dyad_predictor 10_10000.pt\n"
     ]
    },
    {
     "name": "stderr",
     "output_type": "stream",
     "text": [
      "Training: 100%|██████████| 1/1 [00:13<00:00, 13.11s/it]\n",
      "Training: 100%|██████████| 1/1 [00:13<00:00, 13.11s/it]\n",
      "Validating: 100%|██████████| 1/1 [00:00<00:00,  2.61it/s]\n",
      "\n"
     ]
    },
    {
     "name": "stdout",
     "output_type": "stream",
     "text": [
      "Epoch 20/50 | Train Loss: 0.7307 | Val Loss: 0.7257\n",
      "  Saved best model to data/LLM models/dyad_predictor 10_10000.pt\n"
     ]
    },
    {
     "name": "stderr",
     "output_type": "stream",
     "text": [
      "Training: 100%|██████████| 1/1 [00:15<00:00, 15.35s/it]\n",
      "Training: 100%|██████████| 1/1 [00:15<00:00, 15.35s/it]\n",
      "Validating: 100%|██████████| 1/1 [00:00<00:00,  5.14it/s]\n",
      "Validating: 100%|██████████| 1/1 [00:00<00:00,  5.14it/s]\n"
     ]
    },
    {
     "name": "stdout",
     "output_type": "stream",
     "text": [
      "Epoch 21/50 | Train Loss: 0.7083 | Val Loss: 0.7106\n",
      "  Saved best model to data/LLM models/dyad_predictor 10_10000.pt\n"
     ]
    },
    {
     "name": "stderr",
     "output_type": "stream",
     "text": [
      "Training: 100%|██████████| 1/1 [00:08<00:00,  8.75s/it]\n",
      "Training: 100%|██████████| 1/1 [00:08<00:00,  8.75s/it]\n",
      "Validating: 100%|██████████| 1/1 [00:00<00:00,  5.08it/s]\n",
      "Validating: 100%|██████████| 1/1 [00:00<00:00,  5.08it/s]\n"
     ]
    },
    {
     "name": "stdout",
     "output_type": "stream",
     "text": [
      "Epoch 22/50 | Train Loss: 0.6900 | Val Loss: 0.6951\n",
      "  Saved best model to data/LLM models/dyad_predictor 10_10000.pt\n"
     ]
    },
    {
     "name": "stderr",
     "output_type": "stream",
     "text": [
      "Training: 100%|██████████| 1/1 [00:06<00:00,  6.75s/it]\n",
      "Training: 100%|██████████| 1/1 [00:06<00:00,  6.75s/it]\n",
      "Validating: 100%|██████████| 1/1 [00:00<00:00,  1.95it/s]\n",
      "\n"
     ]
    },
    {
     "name": "stdout",
     "output_type": "stream",
     "text": [
      "Epoch 23/50 | Train Loss: 0.6730 | Val Loss: 0.6807\n",
      "  Saved best model to data/LLM models/dyad_predictor 10_10000.pt\n"
     ]
    },
    {
     "name": "stderr",
     "output_type": "stream",
     "text": [
      "Training: 100%|██████████| 1/1 [00:14<00:00, 14.77s/it]\n",
      "Training: 100%|██████████| 1/1 [00:14<00:00, 14.77s/it]\n",
      "Validating: 100%|██████████| 1/1 [00:00<00:00,  3.09it/s]\n",
      "\n"
     ]
    },
    {
     "name": "stdout",
     "output_type": "stream",
     "text": [
      "Epoch 24/50 | Train Loss: 0.6551 | Val Loss: 0.6697\n",
      "  Saved best model to data/LLM models/dyad_predictor 10_10000.pt\n"
     ]
    },
    {
     "name": "stderr",
     "output_type": "stream",
     "text": [
      "Training: 100%|██████████| 1/1 [00:11<00:00, 11.45s/it]\n",
      "Training: 100%|██████████| 1/1 [00:11<00:00, 11.45s/it]\n",
      "Validating: 100%|██████████| 1/1 [00:00<00:00,  2.90it/s]\n",
      "\n"
     ]
    },
    {
     "name": "stdout",
     "output_type": "stream",
     "text": [
      "Epoch 25/50 | Train Loss: 0.6370 | Val Loss: 0.6578\n",
      "  Saved best model to data/LLM models/dyad_predictor 10_10000.pt\n"
     ]
    },
    {
     "name": "stderr",
     "output_type": "stream",
     "text": [
      "Training: 100%|██████████| 1/1 [00:14<00:00, 14.59s/it]\n",
      "Training: 100%|██████████| 1/1 [00:14<00:00, 14.59s/it]\n",
      "Validating: 100%|██████████| 1/1 [00:00<00:00,  2.22it/s]\n",
      "Validating: 100%|██████████| 1/1 [00:00<00:00,  2.22it/s]\n"
     ]
    },
    {
     "name": "stdout",
     "output_type": "stream",
     "text": [
      "Epoch 26/50 | Train Loss: 0.6267 | Val Loss: 0.6525\n",
      "  Saved best model to data/LLM models/dyad_predictor 10_10000.pt\n"
     ]
    },
    {
     "name": "stderr",
     "output_type": "stream",
     "text": [
      "Training: 100%|██████████| 1/1 [00:13<00:00, 13.05s/it]\n",
      "Training: 100%|██████████| 1/1 [00:13<00:00, 13.05s/it]\n",
      "Validating: 100%|██████████| 1/1 [00:00<00:00,  5.45it/s]\n",
      "Validating: 100%|██████████| 1/1 [00:00<00:00,  5.45it/s]\n"
     ]
    },
    {
     "name": "stdout",
     "output_type": "stream",
     "text": [
      "Epoch 27/50 | Train Loss: 0.6145 | Val Loss: 0.6445\n",
      "  Saved best model to data/LLM models/dyad_predictor 10_10000.pt\n"
     ]
    },
    {
     "name": "stderr",
     "output_type": "stream",
     "text": [
      "Training: 100%|██████████| 1/1 [00:06<00:00,  6.41s/it]\n",
      "Training: 100%|██████████| 1/1 [00:06<00:00,  6.41s/it]\n",
      "Validating: 100%|██████████| 1/1 [00:00<00:00,  5.29it/s]\n",
      "Validating: 100%|██████████| 1/1 [00:00<00:00,  5.29it/s]\n"
     ]
    },
    {
     "name": "stdout",
     "output_type": "stream",
     "text": [
      "Epoch 28/50 | Train Loss: 0.5992 | Val Loss: 0.6535\n"
     ]
    },
    {
     "name": "stderr",
     "output_type": "stream",
     "text": [
      "Training: 100%|██████████| 1/1 [00:05<00:00,  5.50s/it]\n",
      "Training: 100%|██████████| 1/1 [00:05<00:00,  5.50s/it]\n",
      "Validating: 100%|██████████| 1/1 [00:00<00:00,  5.14it/s]\n",
      "Validating: 100%|██████████| 1/1 [00:00<00:00,  5.14it/s]\n"
     ]
    },
    {
     "name": "stdout",
     "output_type": "stream",
     "text": [
      "Epoch 29/50 | Train Loss: 0.6126 | Val Loss: 0.6356\n",
      "  Saved best model to data/LLM models/dyad_predictor 10_10000.pt\n"
     ]
    },
    {
     "name": "stderr",
     "output_type": "stream",
     "text": [
      "Training: 100%|██████████| 1/1 [00:07<00:00,  7.11s/it]\n",
      "Validating:   0%|          | 0/1 [00:00<?, ?it/s]\n",
      "Validating: 100%|██████████| 1/1 [00:00<00:00,  2.34it/s]\n",
      "\n"
     ]
    },
    {
     "name": "stdout",
     "output_type": "stream",
     "text": [
      "Epoch 30/50 | Train Loss: 0.5756 | Val Loss: 0.6269\n",
      "  Saved best model to data/LLM models/dyad_predictor 10_10000.pt\n"
     ]
    },
    {
     "name": "stderr",
     "output_type": "stream",
     "text": [
      "Training: 100%|██████████| 1/1 [00:12<00:00, 12.55s/it]\n",
      "Training: 100%|██████████| 1/1 [00:12<00:00, 12.55s/it]\n",
      "Validating: 100%|██████████| 1/1 [00:00<00:00,  2.56it/s]\n",
      "Validating: 100%|██████████| 1/1 [00:00<00:00,  2.56it/s]\n"
     ]
    },
    {
     "name": "stdout",
     "output_type": "stream",
     "text": [
      "Epoch 31/50 | Train Loss: 0.5703 | Val Loss: 0.6329\n"
     ]
    },
    {
     "name": "stderr",
     "output_type": "stream",
     "text": [
      "Training: 100%|██████████| 1/1 [00:12<00:00, 12.71s/it]\n",
      "Training: 100%|██████████| 1/1 [00:12<00:00, 12.71s/it]\n",
      "Validating: 100%|██████████| 1/1 [00:00<00:00,  2.91it/s]\n",
      "Validating: 100%|██████████| 1/1 [00:00<00:00,  2.91it/s]\n"
     ]
    },
    {
     "name": "stdout",
     "output_type": "stream",
     "text": [
      "Epoch 32/50 | Train Loss: 0.5594 | Val Loss: 0.6396\n"
     ]
    },
    {
     "name": "stderr",
     "output_type": "stream",
     "text": [
      "Training: 100%|██████████| 1/1 [00:10<00:00, 10.11s/it]\n",
      "Validating:   0%|          | 0/1 [00:00<?, ?it/s]\n",
      "Validating: 100%|██████████| 1/1 [00:00<00:00,  2.40it/s]\n",
      "\n"
     ]
    },
    {
     "name": "stdout",
     "output_type": "stream",
     "text": [
      "Epoch 33/50 | Train Loss: 0.5558 | Val Loss: 0.6173\n",
      "  Saved best model to data/LLM models/dyad_predictor 10_10000.pt\n"
     ]
    },
    {
     "name": "stderr",
     "output_type": "stream",
     "text": [
      "Training: 100%|██████████| 1/1 [00:13<00:00, 13.02s/it]\n",
      "Training: 100%|██████████| 1/1 [00:13<00:00, 13.02s/it]\n",
      "Validating: 100%|██████████| 1/1 [00:00<00:00,  1.96it/s]\n",
      "\n"
     ]
    },
    {
     "name": "stdout",
     "output_type": "stream",
     "text": [
      "Epoch 34/50 | Train Loss: 0.5555 | Val Loss: 0.6128\n",
      "  Saved best model to data/LLM models/dyad_predictor 10_10000.pt\n"
     ]
    },
    {
     "name": "stderr",
     "output_type": "stream",
     "text": [
      "Training: 100%|██████████| 1/1 [00:19<00:00, 19.19s/it]\n",
      "Training: 100%|██████████| 1/1 [00:19<00:00, 19.19s/it]\n",
      "Validating: 100%|██████████| 1/1 [00:00<00:00,  3.06it/s]\n",
      "Validating: 100%|██████████| 1/1 [00:00<00:00,  3.06it/s]\n"
     ]
    },
    {
     "name": "stdout",
     "output_type": "stream",
     "text": [
      "Epoch 35/50 | Train Loss: 0.5423 | Val Loss: 0.6332\n"
     ]
    },
    {
     "name": "stderr",
     "output_type": "stream",
     "text": [
      "Training: 100%|██████████| 1/1 [00:12<00:00, 12.31s/it]\n",
      "Training: 100%|██████████| 1/1 [00:12<00:00, 12.31s/it]\n",
      "Validating: 100%|██████████| 1/1 [00:00<00:00,  2.48it/s]\n",
      "Validating: 100%|██████████| 1/1 [00:00<00:00,  2.48it/s]\n"
     ]
    },
    {
     "name": "stdout",
     "output_type": "stream",
     "text": [
      "Epoch 36/50 | Train Loss: 0.5312 | Val Loss: 0.6434\n"
     ]
    },
    {
     "name": "stderr",
     "output_type": "stream",
     "text": [
      "Training: 100%|██████████| 1/1 [00:13<00:00, 13.65s/it]\n",
      "Validating:   0%|          | 0/1 [00:00<?, ?it/s]\n",
      "Validating: 100%|██████████| 1/1 [00:00<00:00,  2.78it/s]\n",
      "Validating: 100%|██████████| 1/1 [00:00<00:00,  2.78it/s]\n"
     ]
    },
    {
     "name": "stdout",
     "output_type": "stream",
     "text": [
      "Epoch 37/50 | Train Loss: 0.5119 | Val Loss: 0.6238\n"
     ]
    },
    {
     "name": "stderr",
     "output_type": "stream",
     "text": [
      "Training: 100%|██████████| 1/1 [00:16<00:00, 16.49s/it]\n",
      "Training: 100%|██████████| 1/1 [00:16<00:00, 16.49s/it]\n",
      "Validating: 100%|██████████| 1/1 [00:00<00:00,  1.91it/s]\n",
      "\n"
     ]
    },
    {
     "name": "stdout",
     "output_type": "stream",
     "text": [
      "Epoch 38/50 | Train Loss: 0.5106 | Val Loss: 0.6447\n"
     ]
    },
    {
     "name": "stderr",
     "output_type": "stream",
     "text": [
      "Training: 100%|██████████| 1/1 [00:12<00:00, 12.50s/it]\n",
      "Training: 100%|██████████| 1/1 [00:12<00:00, 12.50s/it]\n",
      "Validating: 100%|██████████| 1/1 [00:00<00:00,  4.06it/s]"
     ]
    },
    {
     "name": "stdout",
     "output_type": "stream",
     "text": [
      "Epoch 39/50 | Train Loss: 0.5044 | Val Loss: 0.6401\n",
      "Early stopping at epoch 39\n",
      "Training completed!\n"
     ]
    },
    {
     "name": "stderr",
     "output_type": "stream",
     "text": [
      "\n"
     ]
    }
   ],
   "source": [
    "def train_epoch(model, train_loader, criterion, optimizer, device):\n",
    "    \"\"\"Train for one epoch.\"\"\"\n",
    "    model.train()\n",
    "    total_loss = 0\n",
    "\n",
    "    for seq_batch, label_batch in tqdm(train_loader, desc=\"Training\"):\n",
    "        seq_batch = seq_batch.to(device)  # (batch, seq_len)\n",
    "        label_batch = label_batch.to(device)  # (batch, seq_len)\n",
    "\n",
    "        optimizer.zero_grad()\n",
    "\n",
    "        # Forward pass\n",
    "        logits = model(seq_batch)  # (batch, seq_len, 1)\n",
    "        logits = logits.squeeze(-1)  # (batch, seq_len)\n",
    "\n",
    "        # Compute loss (ignore padding positions with label=-1)\n",
    "        loss_per_pos = criterion(logits, label_batch)  # (batch, seq_len)\n",
    "        mask = (label_batch >= 0).float()  # Mask out padding\n",
    "        loss = (loss_per_pos * mask).sum() / mask.sum().clamp(min=1)\n",
    "\n",
    "        loss.backward()\n",
    "        torch.nn.utils.clip_grad_norm_(model.parameters(), max_norm=1.0)\n",
    "        optimizer.step()\n",
    "\n",
    "        total_loss += loss.item()\n",
    "\n",
    "    return total_loss / len(train_loader)\n",
    "\n",
    "\n",
    "def validate(model, val_loader, criterion, device):\n",
    "    \"\"\"Validate model.\"\"\"\n",
    "    model.eval()\n",
    "    total_loss = 0\n",
    "    all_preds = []\n",
    "    all_labels = []\n",
    "\n",
    "    with torch.no_grad():\n",
    "        for seq_batch, label_batch in tqdm(val_loader, desc=\"Validating\"):\n",
    "            seq_batch = seq_batch.to(device)\n",
    "            label_batch = label_batch.to(device)\n",
    "\n",
    "            logits = model(seq_batch)\n",
    "            logits = logits.squeeze(-1)\n",
    "\n",
    "            loss_per_pos = criterion(logits, label_batch)\n",
    "            mask = (label_batch >= 0).float()\n",
    "            loss = (loss_per_pos * mask).sum() / mask.sum().clamp(min=1)\n",
    "\n",
    "            total_loss += loss.item()\n",
    "\n",
    "            # Store for metrics\n",
    "            probs = torch.sigmoid(logits)\n",
    "            all_preds.append(probs.cpu().numpy())\n",
    "            all_labels.append(label_batch.cpu().numpy())\n",
    "\n",
    "    return total_loss / len(val_loader), all_preds, all_labels\n",
    "\n",
    "\n",
    "# Training loop\n",
    "epochs = 50\n",
    "train_losses = []\n",
    "val_losses = []\n",
    "best_val_loss = float(\"inf\")\n",
    "patience = 5\n",
    "patience_counter = 0\n",
    "\n",
    "print(\"Starting training...\")\n",
    "for epoch in range(epochs):\n",
    "\n",
    "    train_loss = train_epoch(model, train_loader, criterion_weighted, optimizer, device)\n",
    "    val_loss, _, _ = validate(model, val_loader, criterion_weighted, device)\n",
    "\n",
    "    train_losses.append(train_loss)\n",
    "    val_losses.append(val_loss)\n",
    "\n",
    "    print(\n",
    "        f\"Epoch {epoch+1}/{epochs} | Train Loss: {train_loss:.4f} | Val Loss: {val_loss:.4f}\"\n",
    "    )\n",
    "\n",
    "    # Early stopping\n",
    "    if val_loss < best_val_loss:\n",
    "        best_val_loss = val_loss\n",
    "        patience_counter = 0\n",
    "        # Save best model\n",
    "        torch.save(model.state_dict(), filename)\n",
    "        print(f\"  Saved best model to {filename}\")\n",
    "    else:\n",
    "        patience_counter += 1\n",
    "        if patience_counter >= patience:\n",
    "            print(f\"Early stopping at epoch {epoch+1}\")\n",
    "            break\n",
    "\n",
    "    scheduler.step(val_loss)\n",
    "\n",
    "print(\"Training completed!\")"
   ]
  },
  {
   "cell_type": "markdown",
   "metadata": {},
   "source": [
    "## Step 7: Plot Training History"
   ]
  },
  {
   "cell_type": "code",
   "execution_count": 11,
   "metadata": {},
   "outputs": [
    {
     "data": {
      "image/png": "[encoded data removed]",
      "text/plain": [
       "<Figure size 1500x300 with 1 Axes>"
      ]
     },
     "metadata": {},
     "output_type": "display_data"
    }
   ],
   "source": [
    "plt.figure(figsize=(15, 3))\n",
    "plt.plot(train_losses, label=\"Train Loss\", marker=\"o\")\n",
    "plt.plot(val_losses, label=\"Val Loss\", marker=\"s\")\n",
    "plt.xlabel(\"Epoch\")\n",
    "plt.ylabel(\"Loss\")\n",
    "plt.legend()\n",
    "plt.ylim(0, max(max(train_losses), max(val_losses)) * 1.1)\n",
    "plt.xlim(0, 50)\n",
    "plt.tight_layout()\n",
    "plotter.add_caption(\n",
    "    f\"Training history for {simulation_params.n_samples} reads and {simulation_params.length_bp} bp.\"\n",
    ")"
   ]
  },
  {
   "cell_type": "markdown",
   "metadata": {},
   "source": [
    "## Step 8: Evaluate on Test Set"
   ]
  },
  {
   "cell_type": "code",
   "execution_count": null,
   "metadata": {},
   "outputs": [
    {
     "name": "stderr",
     "output_type": "stream",
     "text": [
      "Validating:   0%|          | 0/1 [00:00<?, ?it/s]"
     ]
    }
   ],
   "source": [
    "# Load best model\n",
    "model.load_state_dict(torch.load(filename))\n",
    "\n",
    "# Evaluate on test set\n",
    "model.eval()\n",
    "# test_loss, test_preds, test_labels = validate(model, test_loader, criterion, device)\n",
    "test_loss, test_preds, test_labels = validate(\n",
    "    model, test_loader, criterion_weighted, device\n",
    ")\n",
    "\n",
    "print(f\"Test Loss: {test_loss:.4f}\")\n",
    "\n",
    "# Compute metrics\n",
    "all_preds_flat = np.concatenate(test_preds).ravel()\n",
    "all_labels_flat = np.concatenate(test_labels).ravel()\n",
    "\n",
    "# Remove padding positions\n",
    "valid_mask = all_labels_flat >= 0\n",
    "all_preds_flat = all_preds_flat[valid_mask]\n",
    "all_labels_flat = all_labels_flat[valid_mask]\n",
    "\n",
    "# Threshold at 0.3 (lower for imbalanced data with weighted loss)\n",
    "predictions_binary = (all_preds_flat >= 0.3).astype(int)\n",
    "\n",
    "\n",
    "# Metrics: try sklearn, fallback to numpy implementations if missing\n",
    "try:\n",
    "    from sklearn.metrics import (\n",
    "        accuracy_score,\n",
    "        precision_score,\n",
    "        recall_score,\n",
    "        f1_score,\n",
    "        roc_auc_score,\n",
    "    )\n",
    "\n",
    "    sklearn_available = True\n",
    "except Exception as e:\n",
    "    sklearn_available = False\n",
    "    import warnings\n",
    "\n",
    "    warnings.warn(\n",
    "        \"scikit-learn not installed; using numpy fallback for basic metrics. Install with: pip install scikit-learn\"\n",
    "    )\n",
    "\n",
    "    def accuracy_score(y_true, y_pred):\n",
    "        y_true = np.asarray(y_true)\n",
    "        y_pred = np.asarray(y_pred)\n",
    "        return float((y_true == y_pred).mean())\n",
    "\n",
    "    def precision_score(y_true, y_pred, zero_division=0):\n",
    "        y_true = np.asarray(y_true)\n",
    "        y_pred = np.asarray(y_pred)\n",
    "        tp = int(((y_true == 1) & (y_pred == 1)).sum())\n",
    "        fp = int(((y_true == 0) & (y_pred == 1)).sum())\n",
    "        denom = tp + fp\n",
    "        if denom == 0:\n",
    "            return float(zero_division)\n",
    "        return float(tp / denom)\n",
    "\n",
    "    def recall_score(y_true, y_pred, zero_division=0):\n",
    "        y_true = np.asarray(y_true)\n",
    "        y_pred = np.asarray(y_pred)\n",
    "        tp = int(((y_true == 1) & (y_pred == 1)).sum())\n",
    "        fn = int(((y_true == 1) & (y_pred == 0)).sum())\n",
    "        denom = tp + fn\n",
    "        if denom == 0:\n",
    "            return float(zero_division)\n",
    "        return float(tp / denom)\n",
    "\n",
    "    def f1_score(y_true, y_pred, zero_division=0):\n",
    "        p = precision_score(y_true, y_pred, zero_division)\n",
    "        r = recall_score(y_true, y_pred, zero_division)\n",
    "        if (p + r) == 0:\n",
    "            return float(zero_division)\n",
    "        return 2 * (p * r) / (p + r)\n",
    "\n",
    "    def roc_auc_score(y_true, y_score):\n",
    "        y_true = np.asarray(y_true)\n",
    "        y_score = np.asarray(y_score)\n",
    "        # require both classes present\n",
    "        if len(np.unique(y_true)) < 2:\n",
    "            return float(\"nan\")\n",
    "        # Sort scores descending\n",
    "        desc = np.argsort(-y_score)\n",
    "        y_true_sorted = y_true[desc]\n",
    "        # cumulative true/false positives\n",
    "        tp = np.cumsum(y_true_sorted == 1)\n",
    "        fp = np.cumsum(y_true_sorted == 0)\n",
    "        tp_total = tp[-1]\n",
    "        fp_total = fp[-1]\n",
    "        if tp_total == 0 or fp_total == 0:\n",
    "            return float(\"nan\")\n",
    "        tpr = np.concatenate([[0.0], tp / tp_total])\n",
    "        fpr = np.concatenate([[0.0], fp / fp_total])\n",
    "        return float(np.trapz(tpr, fpr))\n",
    "\n",
    "\n",
    "# Calculate metrics\n",
    "acc = accuracy_score(all_labels_flat, predictions_binary)\n",
    "prec = precision_score(all_labels_flat, predictions_binary, zero_division=0)\n",
    "rec = recall_score(all_labels_flat, predictions_binary, zero_division=0)\n",
    "f1 = f1_score(all_labels_flat, predictions_binary, zero_division=0)\n",
    "auc = roc_auc_score(all_labels_flat, all_preds_flat)\n",
    "\n",
    "print(f\"\\nTest Metrics:\")\n",
    "print(f\"  Accuracy:  {acc:.4f}\")\n",
    "print(f\"  Precision: {prec:.4f}\")\n",
    "print(f\"  Recall:    {rec:.4f}\")\n",
    "print(f\"  F1-Score:  {f1:.4f}\")\n",
    "print(f\"  ROC-AUC:   {auc:.4f}\")"
   ]
  },
  {
   "cell_type": "markdown",
   "metadata": {},
   "source": [
    "## Step 9: Save Model for Later Use"
   ]
  },
  {
   "cell_type": "code",
   "execution_count": null,
   "metadata": {},
   "outputs": [],
   "source": [
    "# Save model and configuration\n",
    "model_config = {\n",
    "    \"_vocab_size\": 8,\n",
    "    \"_embedding_dim\": 16,\n",
    "    \"_hidden_dim\": 64,\n",
    "    \"_num_layers\": 2,\n",
    "    \"_dropout\": 0.3,\n",
    "}\n",
    "\n",
    "# Unified config file with two sections: 'simulation' and 'llm'\n",
    "config_path = Path(filename).with_suffix(\".json\")\n",
    "if config_path.exists():\n",
    "    with open(config_path, \"r\") as f:\n",
    "        existing_config = json.load(f)\n",
    "else:\n",
    "    existing_config = {}\n",
    "\n",
    "# Preserve any existing sections; update/add the LLM section\n",
    "existing_config[\"llm\"] = model_config\n",
    "\n",
    "with open(config_path, \"w\") as f:\n",
    "    json.dump(existing_config, f, indent=4)\n",
    "\n",
    "print(\"Model and config saved!\")\n",
    "print(f\"Config path: {config_path}\")\n",
    "print(f\"Config sections: {list(existing_config.keys())}\")"
   ]
  },
  {
   "cell_type": "markdown",
   "metadata": {},
   "source": [
    "## Step 10: Load Saved Model"
   ]
  },
  {
   "cell_type": "code",
   "execution_count": null,
   "metadata": {},
   "outputs": [],
   "source": [
    "def predict_dyads(model, encoded_sequence, threshold=0.2, device=\"cpu\"):\n",
    "    \"\"\"\n",
    "    Predict dyad positions for a single sequence.\n",
    "\n",
    "    Args:\n",
    "        model: trained DyadPredictor\n",
    "        encoded_sequence: list/array of integers (0-7)\n",
    "        threshold: probability threshold for positive class (default 0.5)\n",
    "        device: torch device\n",
    "\n",
    "    Returns:\n",
    "        dyad_positions: list of predicted dyad positions\n",
    "        probabilities: array of per-position probabilities\n",
    "    \"\"\"\n",
    "\n",
    "    model.eval()\n",
    "    with torch.no_grad():\n",
    "        seq_tensor = torch.LongTensor(encoded_sequence).unsqueeze(0).to(device)\n",
    "        logits = model(seq_tensor)\n",
    "        probs = torch.sigmoid(logits).squeeze().cpu().numpy()\n",
    "\n",
    "    dyad_positions = np.where(probs >= threshold)[0].tolist()\n",
    "    return dyad_positions, probs\n",
    "\n",
    "\n",
    "# Load config (two-section format: {'simulation': {...}, 'llm': {...}})\n",
    "with open(Path(filename).with_suffix(\".json\"), \"r\") as f:\n",
    "    config = json.load(f)\n",
    "\n",
    "llm_cfg = config.get(\"llm\", {})\n",
    "\n",
    "# Create model from LLM section (keys are prefixed with '_')\n",
    "loaded_model = DyadPredictor(\n",
    "    **{k[1:]: v for k, v in llm_cfg.items() if k.startswith(\"_\")}\n",
    ")\n",
    "loaded_model.load_state_dict(torch.load(filename))\n",
    "loaded_model = loaded_model.to(device)\n",
    "loaded_model.eval()\n",
    "\n",
    "# Use for predictions\n",
    "new_seq = [1, 2, 3, 4, 5, 6, 7, 0, 1, 2, 3, 4]\n",
    "\n",
    "dyad_positions, _, encoded_seq = simulate_chromatin_fibers(n_samples=1, length=n_bp)\n",
    "\n",
    "new_data = [(dyad_positions[0], encoded_seq[0])]\n",
    "new_seq = new_data[0][1]\n",
    "\n",
    "dyads, probs = predict_dyads(loaded_model, new_seq, device=device)\n",
    "\n",
    "index = np.arange(len(new_seq))\n",
    "nucs = np.zeros_like(index)\n",
    "nucs[new_data[0][0]] = 1.0\n",
    "\n",
    "for i in new_data[0][0]:\n",
    "    nucs[i - 65 : i + 65] = -1  # highlight nucleosome region\n",
    "\n",
    "n_plots = 10\n",
    "for i in range(n_plots):\n",
    "    plt.figure(figsize=(12, 1))\n",
    "    plt.xlabel(\"i (bp)\")\n",
    "\n",
    "    plt.vlines(\n",
    "        new_data[0][0], ymin=-1, ymax=2, color=\"black\", linestyles=\"dotted\", alpha=1\n",
    "    )\n",
    "    plt.fill_between(\n",
    "        index, probs, label=\"Predicted Dyad Probability\", color=\"orange\", alpha=0.5\n",
    "    )\n",
    "    plt.fill_between(index, nucs, color=\"blue\", alpha=0.5, label=\"True Dyad Positions\")\n",
    "\n",
    "    methylations = np.zeros_like(index) - 1\n",
    "    methylations[index[new_seq > 4]] = 1\n",
    "    plt.plot(\n",
    "        index,\n",
    "        methylations,\n",
    "        \"o\",\n",
    "        label=\"methylations\",\n",
    "        color=\"green\",\n",
    "        alpha=0.5,\n",
    "        fillstyle=\"full\",\n",
    "        markersize=3,\n",
    "    )\n",
    "\n",
    "    plt.xlim(i * len(index) // n_plots, (i + 1) * len(index) // n_plots)\n",
    "    plt.ylabel(\"Probability\")\n",
    "    plt.ylim(-0.1, 1.1)\n",
    "\n",
    "    # plt.tight_layout\n",
    "    plt.show()"
   ]
  }
 ],
 "metadata": {
  "kernelspec": {
   "display_name": ".venv",
   "language": "python",
   "name": "python3"
  },
  "language_info": {
   "codemirror_mode": {
    "name": "ipython",
    "version": 3
   },
   "file_extension": ".py",
   "mimetype": "text/x-python",
   "name": "python",
   "nbconvert_exporter": "python",
   "pygments_lexer": "ipython3",
   "version": "3.12.3"
  }
 },
 "nbformat": 4,
 "nbformat_minor": 4
}
